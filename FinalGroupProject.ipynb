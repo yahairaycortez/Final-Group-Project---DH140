{
 "cells": [
  {
   "cell_type": "markdown",
   "id": "7f182231-f70b-4d77-9890-0c749dcb3a21",
   "metadata": {},
   "source": [
    "## Project Assignment #2"
   ]
  },
  {
   "cell_type": "markdown",
   "id": "80d9ba83-43ce-40c8-8774-c8fcb2bfc30b",
   "metadata": {},
   "source": [
    "Research Questions and Summary\n",
    "\n",
    "The research questions at hand revolve around the migration of Mexican immigrants. It is important to understand what types of migrants are coming and their reason as well. The vast majority of migrants are coming for economic opportunity but recent years have made the overall goal of migration convoluted in a manner that sheds them in a bad light. It is vital to understand migration patterns and how they possibly result in policies that aid in migration as well as possibly aiding countries that these migrants are fleeing from.\n",
    "1. What motivates migrants to confirm their decision to come to the United States?\n",
    "2. What demographics such as sex and age are mainly migrating to the United States.\n",
    "3. What does life look like for many of these immigrants after migrating? Are they able to find better living/working conditions?\n",
    "4. Did labor work affect the probability of immigrants migrating to the U.S.?\n",
    "\n",
    "- Data (https://opr.princeton.edu/archive/restricted/Link.aspx?StudyID=39&SubStudy=csv)\n",
    "\n",
    "- PERS\n",
    "\n",
    "    The data set has multiple parts that make it whole. One component of the data set includes PERSON which refers to the individual that has migrated. This is a vital part of the data set as it includes demographics of the person such as sex, age, relationship to head of household, marital status, current economic indicators, and characteristics of the first and last trips made to the US/other Mexican locations.\n",
    "    \n",
    "- HOUSE\n",
    "\n",
    "    The HOUSE part of the data set refers to household composition, economic and migratory activity of the members in the household. This includes land ownership of migrants, home/real estate, vehicle and livestock ownership, and business ownership and operation. This is pretty important to know to understand what types of migrants are owning land while coming over to the United States.\n",
    "\n",
    "- MIG\n",
    "\n",
    "    The MIG portion of the data set refers to a person-level file containing details of all border crossings (up to 30) by each head of household, as well as measures of economic and social activity during the last U.S. visit.\n",
    "\n",
    "- LIFE\n",
    "\n",
    "    The LIFE portion of the data set details labor work and family history of each head of household from when they were born up until they took the survey.\n",
    "\n",
    "- The Overall Scope\n",
    "\n",
    "    Our group intends to make bar and line graphs showing migration patterns. Along with colored line graphs possible showing income brackets of before their migration and after. We plan to gather the data and explore the relationship between sex and age as variables in how that has played out in Mexican migration patterns. We also will explore the cost of migration for thet years available in the data set.\n",
    "\n",
    "- Conclusion\n",
    "\n",
    "    On top of analyzing migration patterns, it is important to shed light on the conditions immigrants face upon arrival. Many venture into a new country with the hopes of opportunity yet the situations they find themselves in tend to be different than what they envisioned as “The American Dream”. In conclusion, we expect our results to demonstrate the increase in cost for immigrants in most recent years when attempting to cross the border, as well as an increase in wages for immigrants in comparison to their earnings in Mexico. We hope that our research can help demonstrate a need for aid for these immigrants and perhaps be of use as evidence to provide a better legal system that will allow for a more efficient and safe form of border crossing.\n",
    "    \n",
    "    "
   ]
  },
  {
   "cell_type": "markdown",
   "id": "30543835-46a6-4e5e-99fb-0313ef3c9994",
   "metadata": {},
   "source": [
    "## Step #3"
   ]
  },
  {
   "cell_type": "code",
   "execution_count": 5,
   "id": "b492540b-7f27-43d3-838a-f5979b1c91f8",
   "metadata": {},
   "outputs": [],
   "source": [
    "import pandas as pd\n",
    "import numpy as np\n",
    "from sklearn.datasets import load_iris"
   ]
  },
  {
   "cell_type": "code",
   "execution_count": 7,
   "id": "3efee72e-87f1-435e-9b7b-1bb81255dcb8",
   "metadata": {},
   "outputs": [
    {
     "name": "stderr",
     "output_type": "stream",
     "text": [
      "/opt/conda/lib/python3.9/site-packages/IPython/core/interactiveshell.py:3441: DtypeWarning: Columns (14,15,17,18,19,20,21,22,23,24,25,26,27,28,29,30,31,40,43,49,52,60,61,62,63,64,65,66,340,341,342,343,346,347,349,350,351,352,355,356,359,360,361,362,365,366,369,370,371,372,375,376,379,380,381,382,385,386,389,390,391,392,395,396,399,400,401,402,405,406,409,410,411,412,415,416,417,418,419,420,421,422,423,424,425,426,427,428,429,430,431,432,433,434,435,436,437,438,439,440,441,442,443,444,445,446,447,448,449,450,451,452,453,454,455,456,457,458,459,460,461,462,463,464,465,466,467,468,469,470,471,472,473,474,475,476,485,486,487,488,491,492,493,494,499,502,503,505,506,507,508,516,517,518,519,520,521,522,523,524,525,526,527,528,530,531,532,552,553,554,555,559,560,561) have mixed types.Specify dtype option on import or set low_memory=False.\n",
      "  exec(code_obj, self.user_global_ns, self.user_ns)\n",
      "/opt/conda/lib/python3.9/site-packages/IPython/core/interactiveshell.py:3441: DtypeWarning: Columns (12,19,20,22,23,24,25,26,27,28,29,30,31,32,33,34,35,36,37,38,39,40,41,42,43,46,47,50,51,58,59,60,61,62,63,64,65,66,67,68,69,70,71,72,73,74,75,76,77,78,79,80,81,84,85,88,89,93,97,101,102,103,104,105,115,116,117,127,128,129,131,132,133,134,137,138,140,141,142,143,146,147,150,151,152,153,156,157,160,161,162,163,166,167,170,171,172,173,176,177,180,181,182,183,186,187,190,191,192,193,196,197,200,201,202,203,206,207,208,209,210,211,212,213,214,215,216,217,218,219,220,221,222,223,224,225,226,227,228,229,230,231,232,233,234,235,236,237,238,239,240,241,242,243,244,245,246,247,248,249,250,251,252,253,254,255,256,257,258,259,260,261,262,263,264,265,266,267,276,277,278,279,284,288,289,292,296,297,300,304,305,308,312,313,316,321,322,325,330,331,334,339,340,343,348,349,356,357,365,366,374,375,383,384,386,387,388,389,390,391,392,393,394,395,396,397,398,399,400,401,402,403,410,411,413,416,417,418,419,422,423,426,427,430,431,434,435,438,439,440,441,442,443,444,445,446,447,454,455,462,463,470,471,478,479,498,499,500,501,502,503,504,505,506,507,508,509,510,511,512,513,514,515,516,517,518,519,520,521,522,523,524,525,526,527,528,529,530,531,532,533,534,535,536,537,538,539,540,541,542,543,544,545,546,547) have mixed types.Specify dtype option on import or set low_memory=False.\n",
      "  exec(code_obj, self.user_global_ns, self.user_ns)\n"
     ]
    }
   ],
   "source": [
    "mig174_df = pd.read_csv('mig174.csv')\n",
    "\n",
    "house174_df = pd.read_csv('house174.csv')"
   ]
  },
  {
   "cell_type": "code",
   "execution_count": 8,
   "id": "2bd20ad6-078c-40b7-b69f-38a3d0c8aea8",
   "metadata": {},
   "outputs": [],
   "source": [
    "HOUSE174_df = house174_df[house174_df != 9999]"
   ]
  },
  {
   "cell_type": "code",
   "execution_count": 9,
   "id": "d7cc2c79-4ab7-4d53-b4ad-1569e8473fac",
   "metadata": {},
   "outputs": [
    {
     "data": {
      "text/plain": [
       "count     26976\n",
       "unique      889\n",
       "top            \n",
       "freq      19127\n",
       "Name: hhhincom, dtype: object"
      ]
     },
     "execution_count": 9,
     "metadata": {},
     "output_type": "execute_result"
    }
   ],
   "source": [
    "HOUSE174_df[\"hhhincom\"].describe()"
   ]
  },
  {
   "cell_type": "code",
   "execution_count": 22,
   "id": "2516c04e-8213-473d-bcba-56198f320b88",
   "metadata": {},
   "outputs": [
    {
     "data": {
      "text/html": [
       "<div>\n",
       "<style scoped>\n",
       "    .dataframe tbody tr th:only-of-type {\n",
       "        vertical-align: middle;\n",
       "    }\n",
       "\n",
       "    .dataframe tbody tr th {\n",
       "        vertical-align: top;\n",
       "    }\n",
       "\n",
       "    .dataframe thead th {\n",
       "        text-align: right;\n",
       "    }\n",
       "</style>\n",
       "<table border=\"1\" class=\"dataframe\">\n",
       "  <thead>\n",
       "    <tr style=\"text-align: right;\">\n",
       "      <th></th>\n",
       "      <th>water</th>\n",
       "    </tr>\n",
       "  </thead>\n",
       "  <tbody>\n",
       "    <tr>\n",
       "      <th>0</th>\n",
       "      <td>1.0</td>\n",
       "    </tr>\n",
       "    <tr>\n",
       "      <th>1</th>\n",
       "      <td>1.0</td>\n",
       "    </tr>\n",
       "    <tr>\n",
       "      <th>2</th>\n",
       "      <td>1.0</td>\n",
       "    </tr>\n",
       "    <tr>\n",
       "      <th>3</th>\n",
       "      <td>1.0</td>\n",
       "    </tr>\n",
       "    <tr>\n",
       "      <th>4</th>\n",
       "      <td>1.0</td>\n",
       "    </tr>\n",
       "    <tr>\n",
       "      <th>5</th>\n",
       "      <td>1.0</td>\n",
       "    </tr>\n",
       "    <tr>\n",
       "      <th>6</th>\n",
       "      <td>1.0</td>\n",
       "    </tr>\n",
       "    <tr>\n",
       "      <th>7</th>\n",
       "      <td>1.0</td>\n",
       "    </tr>\n",
       "    <tr>\n",
       "      <th>8</th>\n",
       "      <td>1.0</td>\n",
       "    </tr>\n",
       "    <tr>\n",
       "      <th>9</th>\n",
       "      <td>1.0</td>\n",
       "    </tr>\n",
       "    <tr>\n",
       "      <th>10</th>\n",
       "      <td>1.0</td>\n",
       "    </tr>\n",
       "  </tbody>\n",
       "</table>\n",
       "</div>"
      ],
      "text/plain": [
       "    water\n",
       "0     1.0\n",
       "1     1.0\n",
       "2     1.0\n",
       "3     1.0\n",
       "4     1.0\n",
       "5     1.0\n",
       "6     1.0\n",
       "7     1.0\n",
       "8     1.0\n",
       "9     1.0\n",
       "10    1.0"
      ]
     },
     "execution_count": 22,
     "metadata": {},
     "output_type": "execute_result"
    }
   ],
   "source": [
    "HOUSE174_df.loc[0:10, ['water']]"
   ]
  },
  {
   "cell_type": "code",
   "execution_count": 23,
   "id": "f44761c1-5077-48a1-a31c-1e4e748a971e",
   "metadata": {},
   "outputs": [
    {
     "data": {
      "text/plain": [
       "hhhincom    float64\n",
       "dtype: object"
      ]
     },
     "execution_count": 23,
     "metadata": {},
     "output_type": "execute_result"
    }
   ],
   "source": [
    "HOUSE174_df[['hhhincom']].dtypes\n",
    "#data type of income variable"
   ]
  },
  {
   "cell_type": "code",
   "execution_count": 10,
   "id": "b78011ee-c29e-4894-beea-6a267eee5906",
   "metadata": {},
   "outputs": [],
   "source": [
    "MIG174_df = mig174_df[mig174_df.age != 9999]\n",
    "#excluding missing data"
   ]
  },
  {
   "cell_type": "code",
   "execution_count": 24,
   "id": "945f4465-28ef-4fa1-bcdf-7bed4f33844f",
   "metadata": {},
   "outputs": [
    {
     "data": {
      "text/plain": [
       "count    9049.000000\n",
       "mean       46.511769\n",
       "std        14.937821\n",
       "min        17.000000\n",
       "25%        35.000000\n",
       "50%        44.000000\n",
       "75%        57.000000\n",
       "max        98.000000\n",
       "Name: age, dtype: float64"
      ]
     },
     "execution_count": 24,
     "metadata": {},
     "output_type": "execute_result"
    }
   ],
   "source": [
    "MIG174_df[\"age\"].describe()\n",
    "#looking at age variable of migratns"
   ]
  },
  {
   "cell_type": "code",
   "execution_count": 27,
   "id": "388bfbe3-1783-46af-a5ce-94b0141fafdf",
   "metadata": {},
   "outputs": [
    {
     "data": {
      "text/plain": [
       "count    9049.000000\n",
       "mean        1.047519\n",
       "std         0.212758\n",
       "min         1.000000\n",
       "25%         1.000000\n",
       "50%         1.000000\n",
       "75%         1.000000\n",
       "max         2.000000\n",
       "Name: sex, dtype: float64"
      ]
     },
     "execution_count": 27,
     "metadata": {},
     "output_type": "execute_result"
    }
   ],
   "source": [
    "MIG174_df[\"sex\"].describe()\n",
    "#looking at sex variable of migrants\n",
    "\n"
   ]
  },
  {
   "cell_type": "markdown",
   "id": "ed91895a-cdf5-4656-9fce-74c0fb5e2cad",
   "metadata": {},
   "source": [
    "  "
   ]
  },
  {
   "cell_type": "markdown",
   "id": "47c2433c-67bf-48eb-84ff-ba7f171703be",
   "metadata": {},
   "source": [
    "## Step #4"
   ]
  },
  {
   "cell_type": "markdown",
   "id": "62222073-ea8b-4b38-94fc-4ba15b0aad31",
   "metadata": {},
   "source": [
    "   "
   ]
  },
  {
   "cell_type": "markdown",
   "id": "f76bce08-34ac-43e2-b0c2-1623938b7ea8",
   "metadata": {},
   "source": [
    "Visualization #1"
   ]
  },
  {
   "cell_type": "code",
   "execution_count": 28,
   "id": "8b27bcfd-427c-4910-82b8-94a2eaab00d1",
   "metadata": {},
   "outputs": [
    {
     "data": {
      "text/html": [
       "<div>\n",
       "<style scoped>\n",
       "    .dataframe tbody tr th:only-of-type {\n",
       "        vertical-align: middle;\n",
       "    }\n",
       "\n",
       "    .dataframe tbody tr th {\n",
       "        vertical-align: top;\n",
       "    }\n",
       "\n",
       "    .dataframe thead th {\n",
       "        text-align: right;\n",
       "    }\n",
       "</style>\n",
       "<table border=\"1\" class=\"dataframe\">\n",
       "  <thead>\n",
       "    <tr style=\"text-align: right;\">\n",
       "      <th></th>\n",
       "      <th>country</th>\n",
       "      <th>commun</th>\n",
       "      <th>surveypl</th>\n",
       "      <th>surveyyr</th>\n",
       "      <th>hhnum</th>\n",
       "      <th>weight</th>\n",
       "      <th>yrborn</th>\n",
       "      <th>age</th>\n",
       "      <th>placebrn</th>\n",
       "      <th>statebrn</th>\n",
       "      <th>...</th>\n",
       "      <th>localwkr</th>\n",
       "      <th>latinwkr</th>\n",
       "      <th>samejob</th>\n",
       "      <th>samepay</th>\n",
       "      <th>overtime</th>\n",
       "      <th>overtmtp</th>\n",
       "      <th>tempcomp</th>\n",
       "      <th>unempben</th>\n",
       "      <th>embassy</th>\n",
       "      <th>unions</th>\n",
       "    </tr>\n",
       "    <tr>\n",
       "      <th>sex</th>\n",
       "      <th></th>\n",
       "      <th></th>\n",
       "      <th></th>\n",
       "      <th></th>\n",
       "      <th></th>\n",
       "      <th></th>\n",
       "      <th></th>\n",
       "      <th></th>\n",
       "      <th></th>\n",
       "      <th></th>\n",
       "      <th></th>\n",
       "      <th></th>\n",
       "      <th></th>\n",
       "      <th></th>\n",
       "      <th></th>\n",
       "      <th></th>\n",
       "      <th></th>\n",
       "      <th></th>\n",
       "      <th></th>\n",
       "      <th></th>\n",
       "      <th></th>\n",
       "    </tr>\n",
       "  </thead>\n",
       "  <tbody>\n",
       "    <tr>\n",
       "      <th>1</th>\n",
       "      <td>8619</td>\n",
       "      <td>8619</td>\n",
       "      <td>8619</td>\n",
       "      <td>8619</td>\n",
       "      <td>8619</td>\n",
       "      <td>8619</td>\n",
       "      <td>8619</td>\n",
       "      <td>8619</td>\n",
       "      <td>8619</td>\n",
       "      <td>8619</td>\n",
       "      <td>...</td>\n",
       "      <td>8619</td>\n",
       "      <td>8619</td>\n",
       "      <td>8619</td>\n",
       "      <td>8619</td>\n",
       "      <td>8619</td>\n",
       "      <td>8619</td>\n",
       "      <td>8619</td>\n",
       "      <td>8619</td>\n",
       "      <td>8619</td>\n",
       "      <td>8619</td>\n",
       "    </tr>\n",
       "    <tr>\n",
       "      <th>2</th>\n",
       "      <td>430</td>\n",
       "      <td>430</td>\n",
       "      <td>430</td>\n",
       "      <td>430</td>\n",
       "      <td>430</td>\n",
       "      <td>430</td>\n",
       "      <td>430</td>\n",
       "      <td>430</td>\n",
       "      <td>430</td>\n",
       "      <td>430</td>\n",
       "      <td>...</td>\n",
       "      <td>430</td>\n",
       "      <td>430</td>\n",
       "      <td>430</td>\n",
       "      <td>430</td>\n",
       "      <td>430</td>\n",
       "      <td>430</td>\n",
       "      <td>430</td>\n",
       "      <td>430</td>\n",
       "      <td>430</td>\n",
       "      <td>430</td>\n",
       "    </tr>\n",
       "  </tbody>\n",
       "</table>\n",
       "<p>2 rows × 611 columns</p>\n",
       "</div>"
      ],
      "text/plain": [
       "     country  commun  surveypl  surveyyr  hhnum  weight  yrborn   age  \\\n",
       "sex                                                                     \n",
       "1       8619    8619      8619      8619   8619    8619    8619  8619   \n",
       "2        430     430       430       430    430     430     430   430   \n",
       "\n",
       "     placebrn  statebrn  ...  localwkr  latinwkr  samejob  samepay  overtime  \\\n",
       "sex                      ...                                                   \n",
       "1        8619      8619  ...      8619      8619     8619     8619      8619   \n",
       "2         430       430  ...       430       430      430      430       430   \n",
       "\n",
       "     overtmtp  tempcomp  unempben  embassy  unions  \n",
       "sex                                                 \n",
       "1        8619      8619      8619     8619    8619  \n",
       "2         430       430       430      430     430  \n",
       "\n",
       "[2 rows x 611 columns]"
      ]
     },
     "execution_count": 28,
     "metadata": {},
     "output_type": "execute_result"
    }
   ],
   "source": [
    "MIG174_df.groupby('sex').count()"
   ]
  },
  {
   "cell_type": "code",
   "execution_count": 26,
   "id": "6ad57137-e52c-4f1d-b009-f0b10bbe4b35",
   "metadata": {},
   "outputs": [
    {
     "data": {
      "text/plain": [
       "<AxesSubplot:xlabel='sex'>"
      ]
     },
     "execution_count": 26,
     "metadata": {},
     "output_type": "execute_result"
    },
    {
     "data": {
      "image/png": "[encoded data removed]",
      "text/plain": [
       "<Figure size 864x432 with 1 Axes>"
      ]
     },
     "metadata": {
      "needs_background": "light"
     },
     "output_type": "display_data"
    }
   ],
   "source": [
    "MIG174_df.groupby('sex')['country'].count().plot(kind='bar',figsize=(12,6))"
   ]
  },
  {
   "cell_type": "markdown",
   "id": "d5219af8-6400-4b83-8589-fc7b7940b2c1",
   "metadata": {},
   "source": [
    "This is showing number of migrants based on sex. "
   ]
  },
  {
   "cell_type": "markdown",
   "id": "feaca671-5710-41b5-b46a-62cd9b0009d7",
   "metadata": {},
   "source": [
    "  \n",
    "  "
   ]
  },
  {
   "cell_type": "markdown",
   "id": "48706fa2-7651-416e-85af-0cecec17c796",
   "metadata": {},
   "source": [
    "  "
   ]
  },
  {
   "cell_type": "markdown",
   "id": "0cce54bc-8a10-41b6-b684-ed2dd9a05abf",
   "metadata": {},
   "source": [
    "Visualization #2"
   ]
  },
  {
   "cell_type": "code",
   "execution_count": 12,
   "id": "e95ae2ba-57c0-4812-be00-bff528b443a1",
   "metadata": {},
   "outputs": [
    {
     "data": {
      "text/plain": [
       "<AxesSubplot:>"
      ]
     },
     "execution_count": 12,
     "metadata": {},
     "output_type": "execute_result"
    },
    {
     "data": {
      "image/png": "[encoded data removed]",
      "text/plain": [
       "<Figure size 864x432 with 1 Axes>"
      ]
     },
     "metadata": {
      "needs_background": "light"
     },
     "output_type": "display_data"
    }
   ],
   "source": [
    "MIG174_df[\"age\"].plot(kind=\"box\",figsize=(12,6))"
   ]
  },
  {
   "cell_type": "markdown",
   "id": "a912a066-914c-4172-95b3-01374f08bd96",
   "metadata": {},
   "source": [
    "- This is showing the spread of age in the migration data."
   ]
  },
  {
   "cell_type": "markdown",
   "id": "2189a962-eb08-4d4e-a838-e67d99b3e8c3",
   "metadata": {},
   "source": [
    "  "
   ]
  },
  {
   "cell_type": "markdown",
   "id": "c6c1dabc-a384-41bf-8329-bdb06df79ab0",
   "metadata": {},
   "source": [
    "  "
   ]
  },
  {
   "cell_type": "markdown",
   "id": "ff85ef8f-469c-4874-8301-e105151ecbc3",
   "metadata": {},
   "source": [
    "Visualization #3"
   ]
  },
  {
   "cell_type": "code",
   "execution_count": 13,
   "id": "e1d39a6f-0e48-482a-a886-3eb754b0f2a0",
   "metadata": {},
   "outputs": [],
   "source": [
    "HOUSE174_df = house174_df[house174_df != 9999]"
   ]
  },
  {
   "cell_type": "code",
   "execution_count": 14,
   "id": "1ca99a05-471a-4b19-9214-80ce583fdd95",
   "metadata": {},
   "outputs": [
    {
     "data": {
      "text/html": [
       "<div>\n",
       "<style scoped>\n",
       "    .dataframe tbody tr th:only-of-type {\n",
       "        vertical-align: middle;\n",
       "    }\n",
       "\n",
       "    .dataframe tbody tr th {\n",
       "        vertical-align: top;\n",
       "    }\n",
       "\n",
       "    .dataframe thead th {\n",
       "        text-align: right;\n",
       "    }\n",
       "</style>\n",
       "<table border=\"1\" class=\"dataframe\">\n",
       "  <thead>\n",
       "    <tr style=\"text-align: right;\">\n",
       "      <th></th>\n",
       "      <th>country</th>\n",
       "      <th>commun</th>\n",
       "      <th>surveypl</th>\n",
       "      <th>surveyyr</th>\n",
       "      <th>hhnum</th>\n",
       "      <th>weight</th>\n",
       "      <th>members</th>\n",
       "      <th>workers</th>\n",
       "      <th>nonwork</th>\n",
       "      <th>lifecycl</th>\n",
       "      <th>...</th>\n",
       "      <th>ckidnap</th>\n",
       "      <th>chomerob</th>\n",
       "      <th>cautorob</th>\n",
       "      <th>catmrob</th>\n",
       "      <th>ctheft1</th>\n",
       "      <th>ctheft2</th>\n",
       "      <th>ccrime1</th>\n",
       "      <th>ccrime2</th>\n",
       "      <th>cgangthr</th>\n",
       "      <th>commvio</th>\n",
       "    </tr>\n",
       "    <tr>\n",
       "      <th>water</th>\n",
       "      <th></th>\n",
       "      <th></th>\n",
       "      <th></th>\n",
       "      <th></th>\n",
       "      <th></th>\n",
       "      <th></th>\n",
       "      <th></th>\n",
       "      <th></th>\n",
       "      <th></th>\n",
       "      <th></th>\n",
       "      <th></th>\n",
       "      <th></th>\n",
       "      <th></th>\n",
       "      <th></th>\n",
       "      <th></th>\n",
       "      <th></th>\n",
       "      <th></th>\n",
       "      <th></th>\n",
       "      <th></th>\n",
       "      <th></th>\n",
       "      <th></th>\n",
       "    </tr>\n",
       "  </thead>\n",
       "  <tbody>\n",
       "    <tr>\n",
       "      <th>1.0</th>\n",
       "      <td>27444</td>\n",
       "      <td>27444</td>\n",
       "      <td>27444</td>\n",
       "      <td>27444</td>\n",
       "      <td>27444</td>\n",
       "      <td>27444</td>\n",
       "      <td>27444</td>\n",
       "      <td>27444</td>\n",
       "      <td>27444</td>\n",
       "      <td>27444</td>\n",
       "      <td>...</td>\n",
       "      <td>27436</td>\n",
       "      <td>27436</td>\n",
       "      <td>27435</td>\n",
       "      <td>27437</td>\n",
       "      <td>27442</td>\n",
       "      <td>27442</td>\n",
       "      <td>27443</td>\n",
       "      <td>27443</td>\n",
       "      <td>27436</td>\n",
       "      <td>27441</td>\n",
       "    </tr>\n",
       "    <tr>\n",
       "      <th>2.0</th>\n",
       "      <td>1318</td>\n",
       "      <td>1318</td>\n",
       "      <td>1318</td>\n",
       "      <td>1318</td>\n",
       "      <td>1318</td>\n",
       "      <td>1318</td>\n",
       "      <td>1318</td>\n",
       "      <td>1318</td>\n",
       "      <td>1318</td>\n",
       "      <td>1318</td>\n",
       "      <td>...</td>\n",
       "      <td>1317</td>\n",
       "      <td>1317</td>\n",
       "      <td>1317</td>\n",
       "      <td>1317</td>\n",
       "      <td>1318</td>\n",
       "      <td>1318</td>\n",
       "      <td>1318</td>\n",
       "      <td>1318</td>\n",
       "      <td>1318</td>\n",
       "      <td>1318</td>\n",
       "    </tr>\n",
       "  </tbody>\n",
       "</table>\n",
       "<p>2 rows × 547 columns</p>\n",
       "</div>"
      ],
      "text/plain": [
       "       country  commun  surveypl  surveyyr  hhnum  weight  members  workers  \\\n",
       "water                                                                         \n",
       "1.0      27444   27444     27444     27444  27444   27444    27444    27444   \n",
       "2.0       1318    1318      1318      1318   1318    1318     1318     1318   \n",
       "\n",
       "       nonwork  lifecycl  ...  ckidnap  chomerob  cautorob  catmrob  ctheft1  \\\n",
       "water                     ...                                                  \n",
       "1.0      27444     27444  ...    27436     27436     27435    27437    27442   \n",
       "2.0       1318      1318  ...     1317      1317      1317     1317     1318   \n",
       "\n",
       "       ctheft2  ccrime1  ccrime2  cgangthr  commvio  \n",
       "water                                                \n",
       "1.0      27442    27443    27443     27436    27441  \n",
       "2.0       1318     1318     1318      1318     1318  \n",
       "\n",
       "[2 rows x 547 columns]"
      ]
     },
     "execution_count": 14,
     "metadata": {},
     "output_type": "execute_result"
    }
   ],
   "source": [
    "HOUSE174_df.groupby('water').count()"
   ]
  },
  {
   "cell_type": "code",
   "execution_count": 15,
   "id": "6e57d3ed-15fb-4ee3-a04f-165651ab0918",
   "metadata": {},
   "outputs": [
    {
     "data": {
      "text/plain": [
       "water\n",
       "1.0    27444\n",
       "2.0     1318\n",
       "Name: country, dtype: int64"
      ]
     },
     "execution_count": 15,
     "metadata": {},
     "output_type": "execute_result"
    }
   ],
   "source": [
    "HOUSE174_df.groupby('water')['country'].count()"
   ]
  },
  {
   "cell_type": "markdown",
   "id": "1d5a8c1e-0cca-4f72-8295-19c60246a5ea",
   "metadata": {},
   "source": [
    "- Majority of migrants had access to water in the U.S."
   ]
  },
  {
   "cell_type": "code",
   "execution_count": 16,
   "id": "e489f06e-6d5a-4a48-b9a4-b9a14a4b600b",
   "metadata": {},
   "outputs": [
    {
     "data": {
      "text/plain": [
       "electric\n",
       "1.0    28316\n",
       "2.0      448\n",
       "Name: country, dtype: int64"
      ]
     },
     "execution_count": 16,
     "metadata": {},
     "output_type": "execute_result"
    }
   ],
   "source": [
    "HOUSE174_df.groupby('electric')['country'].count()"
   ]
  },
  {
   "cell_type": "markdown",
   "id": "0cc547e0-f751-4a55-8e9d-078bbb725a96",
   "metadata": {},
   "source": [
    "- Interesting to note that more migrants had access to electricity. Not much as an essential since water is a necessity. "
   ]
  },
  {
   "cell_type": "code",
   "execution_count": 17,
   "id": "f8902f4d-4336-458f-b5be-5cf225b4d281",
   "metadata": {},
   "outputs": [
    {
     "data": {
      "text/plain": [
       "stove\n",
       "1.0    26677\n",
       "2.0     2076\n",
       "Name: country, dtype: int64"
      ]
     },
     "execution_count": 17,
     "metadata": {},
     "output_type": "execute_result"
    }
   ],
   "source": [
    "HOUSE174_df.groupby('stove')['country'].count()"
   ]
  },
  {
   "cell_type": "markdown",
   "id": "87af46de-10c0-4aee-bfef-9daeb2e5a5b0",
   "metadata": {},
   "source": [
    "- This is the most that did not have a stove which means they do not have access to cooking their own food. "
   ]
  },
  {
   "cell_type": "code",
   "execution_count": 18,
   "id": "6fc6bf14-b709-4759-a9c0-167e6fbcd231",
   "metadata": {},
   "outputs": [
    {
     "data": {
      "text/plain": [
       "refrig\n",
       "1.0    22358\n",
       "2.0     6398\n",
       "Name: country, dtype: int64"
      ]
     },
     "execution_count": 18,
     "metadata": {},
     "output_type": "execute_result"
    }
   ],
   "source": [
    "HOUSE174_df.groupby('refrig')['country'].count()"
   ]
  },
  {
   "cell_type": "markdown",
   "id": "c84fc1ea-0ddc-43ae-8cd7-3104a4d5d8ef",
   "metadata": {},
   "source": [
    "- Even more people do not have fridges which makes families incapable of saving food. "
   ]
  },
  {
   "cell_type": "code",
   "execution_count": 19,
   "id": "39ceb463-afb0-47ec-901c-2ad856a4dec9",
   "metadata": {},
   "outputs": [
    {
     "data": {
      "text/plain": [
       "phone\n",
       "1.0    10594\n",
       "2.0    18152\n",
       "Name: country, dtype: int64"
      ]
     },
     "execution_count": 19,
     "metadata": {},
     "output_type": "execute_result"
    }
   ],
   "source": [
    "HOUSE174_df.groupby('phone')['country'].count() "
   ]
  },
  {
   "cell_type": "code",
   "execution_count": 20,
   "id": "8b6ef456-e704-483e-83a2-d9f573f5db75",
   "metadata": {},
   "outputs": [
    {
     "data": {
      "text/plain": [
       "cellular\n",
       "1     6438\n",
       "2     4924\n",
       "     16906\n",
       "1       83\n",
       "2      419\n",
       "Name: country, dtype: int64"
      ]
     },
     "execution_count": 20,
     "metadata": {},
     "output_type": "execute_result"
    }
   ],
   "source": [
    "HOUSE174_df.groupby('cellular')['country'].count()\n"
   ]
  },
  {
   "cell_type": "markdown",
   "id": "0e019234-e387-4742-b2b7-bd95f6b11207",
   "metadata": {},
   "source": [
    "- With both phone and cellular, it makes sense that these are both having the lowest in amenities since this is not much of a need like the others. \n",
    "\n",
    "\n"
   ]
  },
  {
   "cell_type": "markdown",
   "id": "39bf3835-c474-4403-8cf5-1d157e10778c",
   "metadata": {},
   "source": [
    "  "
   ]
  },
  {
   "cell_type": "markdown",
   "id": "637c7f01-cd7a-4527-9746-cbfef67c37df",
   "metadata": {},
   "source": [
    "  "
   ]
  },
  {
   "cell_type": "markdown",
   "id": "9d0d9baa-d3c6-4c98-8756-de37e8bf2c7f",
   "metadata": {},
   "source": [
    "Visualizations #4\n",
    "- With each of the amenities, we are planning to measure these with income. Maybe make a dataframe that shows the respondents with their income and the type of amenities they have. The income can help explain what essentials immigrants are investing in.\n"
   ]
  },
  {
   "cell_type": "code",
   "execution_count": 21,
   "id": "37969aaa-ec3e-4f4d-b70c-cc0897ba731f",
   "metadata": {},
   "outputs": [
    {
     "data": {
      "text/plain": [
       "<AxesSubplot:ylabel='Frequency'>"
      ]
     },
     "execution_count": 21,
     "metadata": {},
     "output_type": "execute_result"
    },
    {
     "data": {
      "image/png": "[encoded data removed]",
      "text/plain": [
       "<Figure size 864x432 with 1 Axes>"
      ]
     },
     "metadata": {
      "needs_background": "light"
     },
     "output_type": "display_data"
    }
   ],
   "source": [
    "HOUSE174_df.loc[HOUSE174_df['hhhincom'] == ' ','hhhincom'] = '0'\n",
    "\n",
    "HOUSE174_df.loc[HOUSE174_df['hhhincom'] == ' ','hhhincom']\n",
    "\n",
    "HOUSE174_df[['hhhincom']] = HOUSE174_df[['hhhincom']].astype(float)\n",
    "\n",
    "df2 = HOUSE174_df.loc[(HOUSE174_df['hhhincom'] < 100000) & (HOUSE174_df['hhhincom']>2000) & (HOUSE174_df['hhhincom'] != 9999),'hhhincom']\n",
    "df2.plot(kind='hist',bins=50,figsize=(12,6))\n"
   ]
  },
  {
   "cell_type": "markdown",
   "id": "c276a9b7-333e-468f-a43c-8b1315f48c68",
   "metadata": {},
   "source": [
    "  "
   ]
  },
  {
   "cell_type": "markdown",
   "id": "66a225cf-366a-4d64-b546-346aa993a7a9",
   "metadata": {},
   "source": [
    "  "
   ]
  },
  {
   "cell_type": "markdown",
   "id": "6d296177-0edb-4bab-af1d-14104675fb6f",
   "metadata": {},
   "source": [
    "Visualization #5\n",
    "- We plan on making a visualization on migration patterns. In terms of seeing what years have the most migration or if migration seems to stay consistent throughout the years. \n"
   ]
  },
  {
   "cell_type": "code",
   "execution_count": null,
   "id": "a824b8a5-8538-4058-a175-b38d25cae0cc",
   "metadata": {},
   "outputs": [],
   "source": []
  }
 ],
 "metadata": {
  "kernelspec": {
   "display_name": "Python 3 (ipykernel)",
   "language": "python",
   "name": "python3"
  },
  "language_info": {
   "codemirror_mode": {
    "name": "ipython",
    "version": 3
   },
   "file_extension": ".py",
   "mimetype": "text/x-python",
   "name": "python",
   "nbconvert_exporter": "python",
   "pygments_lexer": "ipython3",
   "version": "3.9.6"
  }
 },
 "nbformat": 4,
 "nbformat_minor": 5
}
