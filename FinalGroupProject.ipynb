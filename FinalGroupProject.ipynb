{
 "cells": [
  {
   "cell_type": "markdown",
   "id": "7f182231-f70b-4d77-9890-0c749dcb3a21",
   "metadata": {},
   "source": [
    "## Project Assignment #2"
   ]
  },
  {
   "cell_type": "markdown",
   "id": "80d9ba83-43ce-40c8-8774-c8fcb2bfc30b",
   "metadata": {},
   "source": [
    "Research Questions and Summary\n",
    "\n",
    "The research questions at hand revolve around the migration of Mexican immigrants. It is important to understand what types of migrants are coming and their reason as well. The vast majority of migrants are coming for economic opportunity but recent years have made the overall goal of migration convoluted in a manner that sheds them in a bad light. It is vital to understand migration patterns and how they possibly result in policies that aid in migration as well as possibly aiding countries that these migrants are fleeing from.\n",
    "1. What motivates migrants to confirm their decision to come to the United States?\n",
    "2. What demographics such as sex and age are mainly migrating to the United States.\n",
    "3. What does life look like for many of these immigrants after migrating? Are they able to find better living/working conditions?\n",
    "4. Did labor work affect the probability of immigrants migrating to the U.S.?\n",
    "\n",
    "- Data (https://opr.princeton.edu/archive/restricted/Link.aspx?StudyID=39&SubStudy=csv)\n",
    "\n",
    "- PERS\n",
    "\n",
    "    The data set has multiple parts that make it whole. One component of the data set includes PERSON which refers to the individual that has migrated. This is a vital part of the data set as it includes demographics of the person such as sex, age, relationship to head of household, marital status, current economic indicators, and characteristics of the first and last trips made to the US/other Mexican locations.\n",
    "    \n",
    "- HOUSE\n",
    "\n",
    "    The HOUSE part of the data set refers to household composition, economic and migratory activity of the members in the household. This includes land ownership of migrants, home/real estate, vehicle and livestock ownership, and business ownership and operation. This is pretty important to know to understand what types of migrants are owning land while coming over to the United States.\n",
    "\n",
    "- MIG\n",
    "\n",
    "    The MIG portion of the data set refers to a person-level file containing details of all border crossings (up to 30) by each head of household, as well as measures of economic and social activity during the last U.S. visit.\n",
    "\n",
    "- LIFE\n",
    "\n",
    "    The LIFE portion of the data set details labor work and family history of each head of household from when they were born up until they took the survey.\n",
    "\n",
    "- The Overall Scope\n",
    "\n",
    "    Our group intends to make bar and line graphs showing migration patterns. Along with colored line graphs possible showing income brackets of before their migration and after. We plan to gather the data and explore the relationship between sex and age as variables in how that has played out in Mexican migration patterns. We also will explore the cost of migration for thet years available in the data set.\n",
    "\n",
    "- Conclusion\n",
    "\n",
    "    On top of analyzing migration patterns, it is important to shed light on the conditions immigrants face upon arrival. Many venture into a new country with the hopes of opportunity yet the situations they find themselves in tend to be different than what they envisioned as “The American Dream”. In conclusion, we expect our results to demonstrate the increase in cost for immigrants in most recent years when attempting to cross the border, as well as an increase in wages for immigrants in comparison to their earnings in Mexico. We hope that our research can help demonstrate a need for aid for these immigrants and perhaps be of use as evidence to provide a better legal system that will allow for a more efficient and safe form of border crossing.\n",
    "    \n",
    "    "
   ]
  },
  {
   "cell_type": "markdown",
   "id": "30543835-46a6-4e5e-99fb-0313ef3c9994",
   "metadata": {},
   "source": [
    "## Step #3"
   ]
  },
  {
   "cell_type": "raw",
   "id": "c0d031d3-54e4-43c8-9fc6-0bc16d9101d1",
   "metadata": {},
   "source": [
    "import pandas as pd\n",
    "import numpy as np\n",
    "from sklearn.datasets import load_iris\n"
   ]
  },
  {
   "cell_type": "code",
   "execution_count": 9,
   "id": "3efee72e-87f1-435e-9b7b-1bb81255dcb8",
   "metadata": {},
   "outputs": [
    {
     "ename": "NameError",
     "evalue": "name 'pd' is not defined",
     "output_type": "error",
     "traceback": [
      "\u001b[0;31m---------------------------------------------------------------------------\u001b[0m",
      "\u001b[0;31mNameError\u001b[0m                                 Traceback (most recent call last)",
      "\u001b[0;32m/tmp/ipykernel_1245/3602189271.py\u001b[0m in \u001b[0;36m<module>\u001b[0;34m\u001b[0m\n\u001b[0;32m----> 1\u001b[0;31m \u001b[0mmig174_df\u001b[0m \u001b[0;34m=\u001b[0m \u001b[0mpd\u001b[0m\u001b[0;34m.\u001b[0m\u001b[0mread_csv\u001b[0m\u001b[0;34m(\u001b[0m\u001b[0;34m'mig174.csv'\u001b[0m\u001b[0;34m)\u001b[0m\u001b[0;34m\u001b[0m\u001b[0;34m\u001b[0m\u001b[0m\n\u001b[0m\u001b[1;32m      2\u001b[0m \u001b[0;34m\u001b[0m\u001b[0m\n\u001b[1;32m      3\u001b[0m \u001b[0mhouse174_df\u001b[0m \u001b[0;34m=\u001b[0m \u001b[0mpd\u001b[0m\u001b[0;34m.\u001b[0m\u001b[0mread_csv\u001b[0m\u001b[0;34m(\u001b[0m\u001b[0;34m'house174.csv'\u001b[0m\u001b[0;34m)\u001b[0m\u001b[0;34m\u001b[0m\u001b[0;34m\u001b[0m\u001b[0m\n",
      "\u001b[0;31mNameError\u001b[0m: name 'pd' is not defined"
     ]
    }
   ],
   "source": [
    "mig174_df = pd.read_csv('mig174.csv')\n",
    "\n",
    "house174_df = pd.read_csv('house174.csv')"
   ]
  },
  {
   "cell_type": "code",
   "execution_count": 5,
   "id": "2bd20ad6-078c-40b7-b69f-38a3d0c8aea8",
   "metadata": {},
   "outputs": [
    {
     "ename": "NameError",
     "evalue": "name 'house174_df' is not defined",
     "output_type": "error",
     "traceback": [
      "\u001b[0;31m---------------------------------------------------------------------------\u001b[0m",
      "\u001b[0;31mNameError\u001b[0m                                 Traceback (most recent call last)",
      "\u001b[0;32m/tmp/ipykernel_1245/2365886278.py\u001b[0m in \u001b[0;36m<module>\u001b[0;34m\u001b[0m\n\u001b[0;32m----> 1\u001b[0;31m \u001b[0mHOUSE174_df\u001b[0m \u001b[0;34m=\u001b[0m \u001b[0mhouse174_df\u001b[0m\u001b[0;34m[\u001b[0m\u001b[0mhouse174_df\u001b[0m \u001b[0;34m!=\u001b[0m \u001b[0;36m9999\u001b[0m\u001b[0;34m]\u001b[0m\u001b[0;34m\u001b[0m\u001b[0;34m\u001b[0m\u001b[0m\n\u001b[0m",
      "\u001b[0;31mNameError\u001b[0m: name 'house174_df' is not defined"
     ]
    }
   ],
   "source": [
    "HOUSE174_df = house174_df[house174_df != 9999]"
   ]
  },
  {
   "cell_type": "code",
   "execution_count": 6,
   "id": "d7cc2c79-4ab7-4d53-b4ad-1569e8473fac",
   "metadata": {},
   "outputs": [
    {
     "ename": "NameError",
     "evalue": "name 'HOUSE174_df' is not defined",
     "output_type": "error",
     "traceback": [
      "\u001b[0;31m---------------------------------------------------------------------------\u001b[0m",
      "\u001b[0;31mNameError\u001b[0m                                 Traceback (most recent call last)",
      "\u001b[0;32m/tmp/ipykernel_1245/2515302099.py\u001b[0m in \u001b[0;36m<module>\u001b[0;34m\u001b[0m\n\u001b[0;32m----> 1\u001b[0;31m \u001b[0mHOUSE174_df\u001b[0m\u001b[0;34m[\u001b[0m\u001b[0;34m\"hhhincom\"\u001b[0m\u001b[0;34m]\u001b[0m\u001b[0;34m.\u001b[0m\u001b[0mdescribe\u001b[0m\u001b[0;34m(\u001b[0m\u001b[0;34m)\u001b[0m\u001b[0;34m\u001b[0m\u001b[0;34m\u001b[0m\u001b[0m\n\u001b[0m",
      "\u001b[0;31mNameError\u001b[0m: name 'HOUSE174_df' is not defined"
     ]
    }
   ],
   "source": [
    "HOUSE174_df[\"hhhincom\"].describe()"
   ]
  },
  {
   "cell_type": "code",
   "execution_count": 7,
   "id": "2516c04e-8213-473d-bcba-56198f320b88",
   "metadata": {},
   "outputs": [
    {
     "ename": "NameError",
     "evalue": "name 'HOUSE174_df' is not defined",
     "output_type": "error",
     "traceback": [
      "\u001b[0;31m---------------------------------------------------------------------------\u001b[0m",
      "\u001b[0;31mNameError\u001b[0m                                 Traceback (most recent call last)",
      "\u001b[0;32m/tmp/ipykernel_1245/2829035838.py\u001b[0m in \u001b[0;36m<module>\u001b[0;34m\u001b[0m\n\u001b[0;32m----> 1\u001b[0;31m \u001b[0mHOUSE174_df\u001b[0m\u001b[0;34m.\u001b[0m\u001b[0mloc\u001b[0m\u001b[0;34m[\u001b[0m\u001b[0;36m0\u001b[0m\u001b[0;34m:\u001b[0m\u001b[0;36m10\u001b[0m\u001b[0;34m,\u001b[0m \u001b[0;34m[\u001b[0m\u001b[0;34m'water'\u001b[0m\u001b[0;34m]\u001b[0m\u001b[0;34m]\u001b[0m\u001b[0;34m\u001b[0m\u001b[0;34m\u001b[0m\u001b[0m\n\u001b[0m",
      "\u001b[0;31mNameError\u001b[0m: name 'HOUSE174_df' is not defined"
     ]
    }
   ],
   "source": [
    "HOUSE174_df.loc[0:10, ['water']]"
   ]
  },
  {
   "cell_type": "code",
   "execution_count": 8,
   "id": "f44761c1-5077-48a1-a31c-1e4e748a971e",
   "metadata": {},
   "outputs": [
    {
     "ename": "NameError",
     "evalue": "name 'HOUSE174_df' is not defined",
     "output_type": "error",
     "traceback": [
      "\u001b[0;31m---------------------------------------------------------------------------\u001b[0m",
      "\u001b[0;31mNameError\u001b[0m                                 Traceback (most recent call last)",
      "\u001b[0;32m/tmp/ipykernel_1245/3469784379.py\u001b[0m in \u001b[0;36m<module>\u001b[0;34m\u001b[0m\n\u001b[0;32m----> 1\u001b[0;31m \u001b[0mHOUSE174_df\u001b[0m\u001b[0;34m[\u001b[0m\u001b[0;34m[\u001b[0m\u001b[0;34m'hhhincom'\u001b[0m\u001b[0;34m]\u001b[0m\u001b[0;34m]\u001b[0m\u001b[0;34m.\u001b[0m\u001b[0mdtypes\u001b[0m\u001b[0;34m\u001b[0m\u001b[0;34m\u001b[0m\u001b[0m\n\u001b[0m\u001b[1;32m      2\u001b[0m \u001b[0;31m#data type of income variable\u001b[0m\u001b[0;34m\u001b[0m\u001b[0;34m\u001b[0m\u001b[0;34m\u001b[0m\u001b[0m\n",
      "\u001b[0;31mNameError\u001b[0m: name 'HOUSE174_df' is not defined"
     ]
    }
   ],
   "source": [
    "HOUSE174_df[['hhhincom']].dtypes\n",
    "#data type of income variable"
   ]
  },
  {
   "cell_type": "code",
   "execution_count": null,
   "id": "b78011ee-c29e-4894-beea-6a267eee5906",
   "metadata": {},
   "outputs": [],
   "source": [
    "MIG174_df = mig174_df[mig174_df.age != 9999]\n",
    "#excluding missing data"
   ]
  },
  {
   "cell_type": "code",
   "execution_count": null,
   "id": "945f4465-28ef-4fa1-bcdf-7bed4f33844f",
   "metadata": {},
   "outputs": [],
   "source": [
    "MIG174_df[\"age\"].describe()\n",
    "#looking at age variable of migratns"
   ]
  },
  {
   "cell_type": "code",
   "execution_count": null,
   "id": "388bfbe3-1783-46af-a5ce-94b0141fafdf",
   "metadata": {},
   "outputs": [],
   "source": [
    "MIG174_df[\"sex\"].describe()\n",
    "#looking at sex variable of migrants"
   ]
  },
  {
   "cell_type": "markdown",
   "id": "ed91895a-cdf5-4656-9fce-74c0fb5e2cad",
   "metadata": {},
   "source": [
    "  "
   ]
  },
  {
   "cell_type": "markdown",
   "id": "47c2433c-67bf-48eb-84ff-ba7f171703be",
   "metadata": {},
   "source": [
    "## Step #4"
   ]
  },
  {
   "cell_type": "markdown",
   "id": "62222073-ea8b-4b38-94fc-4ba15b0aad31",
   "metadata": {},
   "source": [
    "   "
   ]
  },
  {
   "cell_type": "markdown",
   "id": "f76bce08-34ac-43e2-b0c2-1623938b7ea8",
   "metadata": {},
   "source": [
    "Visualization #1"
   ]
  },
  {
   "cell_type": "code",
   "execution_count": null,
   "id": "8b27bcfd-427c-4910-82b8-94a2eaab00d1",
   "metadata": {},
   "outputs": [],
   "source": [
    "MIG174_df.groupby('sex').count()"
   ]
  },
  {
   "cell_type": "code",
   "execution_count": null,
   "id": "6ad57137-e52c-4f1d-b009-f0b10bbe4b35",
   "metadata": {},
   "outputs": [],
   "source": [
    "MIG174_df.groupby('sex')['country'].count().plot(kind='bar',figsize=(12,6))"
   ]
  },
  {
   "cell_type": "markdown",
   "id": "d5219af8-6400-4b83-8589-fc7b7940b2c1",
   "metadata": {},
   "source": [
    "This is showing number of migrants based on sex. "
   ]
  },
  {
   "cell_type": "markdown",
   "id": "feaca671-5710-41b5-b46a-62cd9b0009d7",
   "metadata": {},
   "source": [
    "  \n",
    "  "
   ]
  },
  {
   "cell_type": "markdown",
   "id": "48706fa2-7651-416e-85af-0cecec17c796",
   "metadata": {},
   "source": [
    "  "
   ]
  },
  {
   "cell_type": "markdown",
   "id": "0cce54bc-8a10-41b6-b684-ed2dd9a05abf",
   "metadata": {},
   "source": [
    "Visualization #2"
   ]
  },
  {
   "cell_type": "code",
   "execution_count": null,
   "id": "e95ae2ba-57c0-4812-be00-bff528b443a1",
   "metadata": {},
   "outputs": [],
   "source": [
    "MIG174_df[\"age\"].plot(kind=\"box\",figsize=(12,6))"
   ]
  },
  {
   "cell_type": "markdown",
   "id": "a912a066-914c-4172-95b3-01374f08bd96",
   "metadata": {},
   "source": [
    "- This is showing the spread of age in the migration data."
   ]
  },
  {
   "cell_type": "markdown",
   "id": "2189a962-eb08-4d4e-a838-e67d99b3e8c3",
   "metadata": {},
   "source": [
    "  "
   ]
  },
  {
   "cell_type": "markdown",
   "id": "c6c1dabc-a384-41bf-8329-bdb06df79ab0",
   "metadata": {},
   "source": [
    "  "
   ]
  },
  {
   "cell_type": "markdown",
   "id": "ff85ef8f-469c-4874-8301-e105151ecbc3",
   "metadata": {},
   "source": [
    "Visualization #3"
   ]
  },
  {
   "cell_type": "code",
   "execution_count": null,
   "id": "e1d39a6f-0e48-482a-a886-3eb754b0f2a0",
   "metadata": {},
   "outputs": [],
   "source": [
    "HOUSE174_df = house174_df[house174_df != 9999]"
   ]
  },
  {
   "cell_type": "code",
   "execution_count": null,
   "id": "1ca99a05-471a-4b19-9214-80ce583fdd95",
   "metadata": {},
   "outputs": [],
   "source": [
    "HOUSE174_df.groupby('water').count()"
   ]
  },
  {
   "cell_type": "code",
   "execution_count": null,
   "id": "6e57d3ed-15fb-4ee3-a04f-165651ab0918",
   "metadata": {},
   "outputs": [],
   "source": [
    "HOUSE174_df.groupby('water')['country'].count()"
   ]
  },
  {
   "cell_type": "markdown",
   "id": "1d5a8c1e-0cca-4f72-8295-19c60246a5ea",
   "metadata": {},
   "source": [
    "- Majority of migrants had access to water in the U.S."
   ]
  },
  {
   "cell_type": "code",
   "execution_count": null,
   "id": "e489f06e-6d5a-4a48-b9a4-b9a14a4b600b",
   "metadata": {},
   "outputs": [],
   "source": [
    "HOUSE174_df.groupby('electric')['country'].count()"
   ]
  },
  {
   "cell_type": "markdown",
   "id": "0cc547e0-f751-4a55-8e9d-078bbb725a96",
   "metadata": {},
   "source": [
    "- Interesting to note that more migrants had access to electricity. Not much as an essential since water is a necessity. "
   ]
  },
  {
   "cell_type": "code",
   "execution_count": null,
   "id": "f8902f4d-4336-458f-b5be-5cf225b4d281",
   "metadata": {},
   "outputs": [],
   "source": [
    "HOUSE174_df.groupby('stove')['country'].count()"
   ]
  },
  {
   "cell_type": "markdown",
   "id": "87af46de-10c0-4aee-bfef-9daeb2e5a5b0",
   "metadata": {},
   "source": [
    "- This is the most that did not have a stove which means they do not have access to cooking their own food. "
   ]
  },
  {
   "cell_type": "code",
   "execution_count": null,
   "id": "6fc6bf14-b709-4759-a9c0-167e6fbcd231",
   "metadata": {},
   "outputs": [],
   "source": [
    "HOUSE174_df.groupby('refrig')['country'].count()"
   ]
  },
  {
   "cell_type": "markdown",
   "id": "c84fc1ea-0ddc-43ae-8cd7-3104a4d5d8ef",
   "metadata": {},
   "source": [
    "- Even more people do not have fridges which makes families incapable of saving food. "
   ]
  },
  {
   "cell_type": "code",
   "execution_count": null,
   "id": "39ceb463-afb0-47ec-901c-2ad856a4dec9",
   "metadata": {},
   "outputs": [],
   "source": [
    "HOUSE174_df.groupby('phone')['country'].count() "
   ]
  },
  {
   "cell_type": "code",
   "execution_count": null,
   "id": "8b6ef456-e704-483e-83a2-d9f573f5db75",
   "metadata": {},
   "outputs": [],
   "source": [
    "HOUSE174_df.groupby('cellular')['country'].count()\n"
   ]
  },
  {
   "cell_type": "markdown",
   "id": "0e019234-e387-4742-b2b7-bd95f6b11207",
   "metadata": {},
   "source": [
    "- With both phone and cellular, it makes sense that these are both having the lowest in amenities since this is not much of a need like the others. \n",
    "\n",
    "\n"
   ]
  },
  {
   "cell_type": "markdown",
   "id": "39bf3835-c474-4403-8cf5-1d157e10778c",
   "metadata": {},
   "source": [
    "  "
   ]
  },
  {
   "cell_type": "markdown",
   "id": "637c7f01-cd7a-4527-9746-cbfef67c37df",
   "metadata": {},
   "source": [
    "  "
   ]
  },
  {
   "cell_type": "markdown",
   "id": "9d0d9baa-d3c6-4c98-8756-de37e8bf2c7f",
   "metadata": {},
   "source": [
    "Visualizations #4\n",
    "- With each of the amenities, we are planning to measure these with income. Maybe make a dataframe that shows the respondents with their income and the type of amenities they have. The income can help explain what essentials immigrants are investing in.\n"
   ]
  },
  {
   "cell_type": "code",
   "execution_count": null,
   "id": "37969aaa-ec3e-4f4d-b70c-cc0897ba731f",
   "metadata": {},
   "outputs": [],
   "source": [
    "HOUSE174_df.loc[HOUSE174_df['hhhincom'] == ' ','hhhincom'] = '0'\n",
    "\n",
    "HOUSE174_df.loc[HOUSE174_df['hhhincom'] == ' ','hhhincom']\n",
    "\n",
    "HOUSE174_df[['hhhincom']] = HOUSE174_df[['hhhincom']].astype(float)\n",
    "\n",
    "df2 = HOUSE174_df.loc[(HOUSE174_df['hhhincom'] < 100000) & (HOUSE174_df['hhhincom']>2000) & (HOUSE174_df['hhhincom'] != 9999),'hhhincom']\n",
    "df2.plot(kind='hist',bins=50,figsize=(12,6))\n"
   ]
  },
  {
   "cell_type": "markdown",
   "id": "c276a9b7-333e-468f-a43c-8b1315f48c68",
   "metadata": {},
   "source": [
    "  "
   ]
  },
  {
   "cell_type": "markdown",
   "id": "66a225cf-366a-4d64-b546-346aa993a7a9",
   "metadata": {},
   "source": [
    "  "
   ]
  },
  {
   "cell_type": "markdown",
   "id": "6d296177-0edb-4bab-af1d-14104675fb6f",
   "metadata": {},
   "source": [
    "Visualization #5\n",
    "- We plan on making a visualization on migration patterns. In terms of seeing what years have the most migration or if migration seems to stay consistent throughout the years. \n"
   ]
  },
  {
   "cell_type": "code",
   "execution_count": null,
   "id": "a824b8a5-8538-4058-a175-b38d25cae0cc",
   "metadata": {},
   "outputs": [],
   "source": []
  }
 ],
 "metadata": {
  "kernelspec": {
   "display_name": "Python 3 (ipykernel)",
   "language": "python",
   "name": "python3"
  },
  "language_info": {
   "codemirror_mode": {
    "name": "ipython",
    "version": 3
   },
   "file_extension": ".py",
   "mimetype": "text/x-python",
   "name": "python",
   "nbconvert_exporter": "python",
   "pygments_lexer": "ipython3",
   "version": "3.9.6"
  }
 },
 "nbformat": 4,
 "nbformat_minor": 5
}
